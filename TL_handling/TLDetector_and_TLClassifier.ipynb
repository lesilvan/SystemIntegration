{
 "cells": [
  {
   "cell_type": "markdown",
   "metadata": {},
   "source": [
    "# CarND Object Detection Lab\n",
    "\n",
    "Let's get started!"
   ]
  },
  {
   "cell_type": "code",
   "execution_count": 13,
   "metadata": {},
   "outputs": [],
   "source": [
    "import tensorflow as tf\n",
    "import numpy as np\n",
    "import matplotlib.pyplot as plt\n",
    "from PIL import Image\n",
    "from PIL import ImageDraw\n",
    "from PIL import ImageColor\n",
    "import time\n",
    "from scipy.stats import norm\n",
    "\n",
    "%matplotlib inline\n",
    "plt.style.use('ggplot')"
   ]
  },
  {
   "cell_type": "markdown",
   "metadata": {},
   "source": [
    "## Prepare dataset for training and validation"
   ]
  },
  {
   "cell_type": "code",
   "execution_count": 47,
   "metadata": {},
   "outputs": [],
   "source": [
    "import csv\n",
    "import pandas as pd\n",
    "import cv2\n",
    "from sklearn.model_selection import train_test_split"
   ]
  },
  {
   "cell_type": "code",
   "execution_count": 135,
   "metadata": {},
   "outputs": [],
   "source": [
    "\"\"\"# Read in info about raw data from car camera and safe in df (pd.DataFrame format)\n",
    "with open('images/images/classes.csv', newline='') as csvfile:\n",
    "    spamreader = csv.reader(csvfile, delimiter=',', quotechar='|')\n",
    "    content = list()\n",
    "    for row in spamreader:\n",
    "        #print(', '.join(row))\n",
    "        row[0] = 'images/images/'+row[0]\n",
    "        content.append(row)\n",
    "\n",
    "with open('images/images2/classes.csv', newline='') as csvfile:\n",
    "    spamreader = csv.reader(csvfile, delimiter=',', quotechar='|')\n",
    "    for row in spamreader:\n",
    "        #print(', '.join(row))\n",
    "        row[0] = 'images/images2/'+row[0]\n",
    "        content.append(row)\n",
    "#df = pd.DataFrame(data=content, columns=[\"path\", \"class\"])\n",
    "#df[\"class\"].value_counts(),df.describe()\n",
    "content = np.array(content)\"\"\""
   ]
  },
  {
   "cell_type": "code",
   "execution_count": 140,
   "metadata": {},
   "outputs": [],
   "source": [
    "content = list()\n",
    "with open('images/signlabels.csv', newline='') as csvfile:\n",
    "    spamreader = csv.reader(csvfile, delimiter=',', quotechar='|')\n",
    "    for row in spamreader:\n",
    "        content.append(row)\n",
    "content = np.array(content)"
   ]
  },
  {
   "cell_type": "code",
   "execution_count": 114,
   "metadata": {},
   "outputs": [
    {
     "name": "stdout",
     "output_type": "stream",
     "text": [
      "(293, 600, 800, 3) uint8\n",
      "(293,) int32\n"
     ]
    }
   ],
   "source": [
    "def load_content(content):\n",
    "    images = list()\n",
    "    labels = list()\n",
    "    for path, label in content:\n",
    "        img = cv2.imread(path)\n",
    "        img = cv2.cvtColor(img, cv2.COLOR_BGR2RGB)\n",
    "        images.append(img)\n",
    "        if label == \"green\":\n",
    "            labels.append(2)\n",
    "        elif label == \"red\":\n",
    "            labels.append(0)\n",
    "        elif label == \"yellow\":\n",
    "            labels.append(1)\n",
    "        else:\n",
    "            labels.append(4)\n",
    "            print(\"[ERROR] Label of image \", path, \" neither red, yellow, or green!\")\n",
    "    images = np.asarray(images)\n",
    "    labels = np.asarray(labels)\n",
    "    return images, labels\n",
    "\n",
    "\n",
    "images, labels = load_content(content)\n",
    "print(images.shape, images.dtype)\n",
    "print(labels.shape, labels.dtype)"
   ]
  },
  {
   "cell_type": "code",
   "execution_count": 98,
   "metadata": {},
   "outputs": [],
   "source": [
    "X_train, X_test, y_train, y_test = train_test_split(images, labels, test_size=0.2, random_state=42)"
   ]
  },
  {
   "cell_type": "markdown",
   "metadata": {},
   "source": [
    "## Object Detection Inference\n",
    "\n",
    "In this part of the lab you'll detect objects using pretrained object detection models. You can download the latest pretrained models from the [model zoo](https://github.com/tensorflow/models/blob/master/research/object_detection/g3doc/detection_model_zoo.md), although do note that you may need a newer version of TensorFlow (such as v1.8) in order to use the newest models.\n",
    "\n",
    "We are providing the download links for the below noted files to ensure compatibility between the included environment file and the models.\n",
    "\n",
    "[SSD_Mobilenet 11.6.17 version](http://download.tensorflow.org/models/object_detection/ssd_mobilenet_v1_coco_11_06_2017.tar.gz)\n",
    "\n",
    "[RFCN_ResNet101 11.6.17 version](http://download.tensorflow.org/models/object_detection/rfcn_resnet101_coco_11_06_2017.tar.gz)\n",
    "\n",
    "[Faster_RCNN_Inception_ResNet 11.6.17 version](http://download.tensorflow.org/models/object_detection/faster_rcnn_inception_resnet_v2_atrous_coco_11_06_2017.tar.gz)\n",
    "\n",
    "Make sure to extract these files prior to continuing!"
   ]
  },
  {
   "cell_type": "code",
   "execution_count": 12,
   "metadata": {},
   "outputs": [],
   "source": [
    "# Frozen inference graph files. NOTE: change the path to where you saved the models.\n",
    "SSD_GRAPH_FILE = 'models/ssd_mobilenet_v1_coco_11_06_2017/frozen_inference_graph.pb'\n",
    "RFCN_GRAPH_FILE = 'models/rfcn_resnet101_coco_11_06_2017/frozen_inference_graph.pb'\n",
    "FASTER_RCNN_GRAPH_FILE = 'models/faster_rcnn_inception_resnet_v2_atrous_coco_11_06_2017/frozen_inference_graph.pb'\n",
    "FASTER_RCNN_KITTI_FILE = 'models/faster_rcnn_resnet101_kitti_2018_01_28/frozen_inference_graph.pb'\n",
    "SSDLITE_GRAPH_FILE = 'models/ssdlite_mobilenet_v2_coco_2018_05_09/frozen_inference_graph.pb'"
   ]
  },
  {
   "cell_type": "markdown",
   "metadata": {},
   "source": [
    "Below are utility functions. The main purpose of these is to draw the bounding boxes back onto the original image."
   ]
  },
  {
   "cell_type": "code",
   "execution_count": 30,
   "metadata": {},
   "outputs": [
    {
     "name": "stdout",
     "output_type": "stream",
     "text": [
      "Number of colors = 148\n"
     ]
    }
   ],
   "source": [
    "# Colors (one for each class)\n",
    "cmap = ImageColor.colormap\n",
    "print(\"Number of colors =\", len(cmap))\n",
    "COLOR_LIST = sorted([c for c in cmap.keys()])\n",
    "\n",
    "#\n",
    "# Utility funcs\n",
    "#\n",
    "\n",
    "def filter_boxes(min_score, boxes, scores, classes):\n",
    "    \"\"\"Return boxes with a confidence >= `min_score`\"\"\"\n",
    "    n = len(classes)\n",
    "    idxs = []\n",
    "    for i in range(n):\n",
    "        if scores[i] >= min_score:\n",
    "            idxs.append(i)\n",
    "    \n",
    "    filtered_boxes = boxes[idxs, ...]\n",
    "    filtered_scores = scores[idxs, ...]\n",
    "    filtered_classes = classes[idxs, ...]\n",
    "    return filtered_boxes, filtered_scores, filtered_classes\n",
    "\n",
    "def filter_boxes1(min_score, search_class, boxes, scores, classes):\n",
    "    \"\"\"Return boxes with a confidence >= `min_score`\"\"\"\n",
    "    n = len(classes)\n",
    "    idxs = []\n",
    "    for i in range(n):\n",
    "        if scores[i] >= min_score and classes[i] == search_class:\n",
    "            idxs.append(i)\n",
    "            break\n",
    "    \n",
    "    filtered_boxes = boxes[idxs, ...]\n",
    "    filtered_scores = scores[idxs, ...]\n",
    "    filtered_classes = classes[idxs, ...]\n",
    "    return filtered_boxes, filtered_scores, filtered_classes\n",
    "\n",
    "def to_image_coords(boxes, height, width):\n",
    "    \"\"\"\n",
    "    The original box coordinate output is normalized, i.e [0, 1].\n",
    "    \n",
    "    This converts it back to the original coordinate based on the image\n",
    "    size.\n",
    "    \"\"\"\n",
    "    box_coords = np.zeros_like(boxes)\n",
    "    box_coords[:, 0] = boxes[:, 0] * height\n",
    "    box_coords[:, 1] = boxes[:, 1] * width\n",
    "    box_coords[:, 2] = boxes[:, 2] * height\n",
    "    box_coords[:, 3] = boxes[:, 3] * width\n",
    "    \n",
    "    return box_coords\n",
    "\n",
    "def draw_boxes(image_path, boxes, classes, thickness=4):\n",
    "    \"\"\"Draw bounding boxes on the image\"\"\"\n",
    "    image = Image.open(image_path)\n",
    "    draw = ImageDraw.Draw(image)\n",
    "    for i in range(len(boxes)):\n",
    "        bot, left, top, right = boxes[i, ...]\n",
    "        class_id = int(classes[i])\n",
    "        color = COLOR_LIST[class_id]\n",
    "        draw.line([(left, top), (left, bot), (right, bot), (right, top), (left, top)], width=thickness, fill=color)\n",
    "        \n",
    "def load_graph(graph_file):\n",
    "    \"\"\"Loads a frozen inference graph\"\"\"\n",
    "    graph = tf.Graph()\n",
    "    with graph.as_default():\n",
    "        od_graph_def = tf.GraphDef()\n",
    "        with tf.gfile.GFile(graph_file, 'rb') as fid:\n",
    "            serialized_graph = fid.read()\n",
    "            od_graph_def.ParseFromString(serialized_graph)\n",
    "            tf.import_graph_def(od_graph_def, name='')\n",
    "    return graph"
   ]
  },
  {
   "cell_type": "code",
   "execution_count": 41,
   "metadata": {},
   "outputs": [],
   "source": [
    "def detect_tl(image, sess):\n",
    "    image_np = np.expand_dims(np.asarray(image, dtype=np.uint8), 0)\n",
    "    (boxes, scores, classes) = sess.run([detection_boxes, detection_scores, detection_classes], \n",
    "                                        feed_dict={image_tensor: image_np})\n",
    "\n",
    "    # Remove unnecessary dimensions\n",
    "    boxes = np.squeeze(boxes)\n",
    "    scores = np.squeeze(scores)\n",
    "    classes = np.squeeze(classes)\n",
    "\n",
    "    classer.append(classes)\n",
    "    scorer.append(scores)\n",
    "\n",
    "    confidence_cutoff = 0.45\n",
    "    search_class = 10\n",
    "    # Filter boxes with a confidence score less than `confidence_cutoff`\n",
    "    boxes, scores, classes = filter_boxes1(confidence_cutoff, search_class, boxes, scores, classes)\n",
    "\n",
    "\n",
    "    # The current box coordinates are normalized to a range between 0 and 1.\n",
    "    # This converts the coordinates actual location on the image.\n",
    "    width, height = image.shape[1], image.shape[0]\n",
    "    box_coords = to_image_coords(boxes, height, width)\n",
    "\n",
    "    # Each class with be represented by a differently colored box\n",
    "    draw_boxes(path, box_coords, classes)\n",
    "\n",
    "    # Crop image to detected traffic light\n",
    "    coords = np.squeeze(box_coords).astype(int)\n",
    "    return coords"
   ]
  },
  {
   "cell_type": "markdown",
   "metadata": {},
   "source": [
    "Below we load the graph and extract the relevant tensors using [`get_tensor_by_name`](https://www.tensorflow.org/api_docs/python/tf/Graph#get_tensor_by_name). These tensors reflect the input and outputs of the graph, or least the ones we care about for detecting objects."
   ]
  },
  {
   "cell_type": "code",
   "execution_count": 207,
   "metadata": {},
   "outputs": [],
   "source": [
    "#detection_graph = load_graph(SSD_GRAPH_FILE)\n",
    "# detection_graph = load_graph(RFCN_GRAPH_FILE)\n",
    "# detection_graph = load_graph(FASTER_RCNN_GRAPH_FILE)\n",
    "detection_graph = load_graph(SSDLITE_GRAPH_FILE)\n",
    "\n",
    "# The input placeholder for the image.\n",
    "# `get_tensor_by_name` returns the Tensor with the associated name in the Graph.\n",
    "image_tensor = detection_graph.get_tensor_by_name('image_tensor:0')\n",
    "\n",
    "# Each box represents a part of the image where a particular object was detected.\n",
    "detection_boxes = detection_graph.get_tensor_by_name('detection_boxes:0')\n",
    "\n",
    "# Each score represent how level of confidence for each of the objects.\n",
    "# Score is shown on the result image, together with the class label.\n",
    "detection_scores = detection_graph.get_tensor_by_name('detection_scores:0')\n",
    "\n",
    "# The classification of the object (integer id).\n",
    "detection_classes = detection_graph.get_tensor_by_name('detection_classes:0')"
   ]
  },
  {
   "cell_type": "markdown",
   "metadata": {},
   "source": [
    "Run detection and classification on a sample image."
   ]
  },
  {
   "cell_type": "code",
   "execution_count": 43,
   "metadata": {},
   "outputs": [
    {
     "data": {
      "image/png": "[encoded data removed]",
      "text/plain": [
       "<matplotlib.figure.Figure at 0x21f064bfbe0>"
      ]
     },
     "metadata": {},
     "output_type": "display_data"
    },
    {
     "data": {
      "image/png": "[encoded data removed]",
      "text/plain": [
       "<matplotlib.figure.Figure at 0x21f029c5588>"
      ]
     },
     "metadata": {},
     "output_type": "display_data"
    },
    {
     "data": {
      "image/png": "[encoded data removed]",
      "text/plain": [
       "<matplotlib.figure.Figure at 0x21f030460f0>"
      ]
     },
     "metadata": {},
     "output_type": "display_data"
    },
    {
     "data": {
      "image/png": "[encoded data removed]",
      "text/plain": [
       "<matplotlib.figure.Figure at 0x21f0307eeb8>"
      ]
     },
     "metadata": {},
     "output_type": "display_data"
    }
   ],
   "source": [
    "# Load a sample image.\n",
    "\n",
    "image1 = './images/images/frame0140.jpg'\n",
    "image2 = './images/images/frame0116.jpg'\n",
    "image3 = './images/images/frame0000.jpg'\n",
    "#image4 = './images/frame0092.jpg'\n",
    "image4 = './images/image001.jpg'\n",
    "images = [image1, image2, image3, image4]\n",
    "\n",
    "with tf.Session(graph=detection_graph) as sess:                \n",
    "    # Actual detection.\n",
    "    for path in images:\n",
    "        img = cv2.imread(path)\n",
    "        image = cv2.cvtColor(img, cv2.COLOR_BGR2RGB)\n",
    "        \n",
    "        # Detect traffic light in image\n",
    "        coords = detect_tl(image, sess)\n",
    "        \n",
    "        # Show detected traffic light only\n",
    "        image1 = cv2.resize(image[coords[0]:coords[2], coords[1]:coords[3]], (16,32))\n",
    "        plt.figure(figsize=(2, 2))\n",
    "        plt.imshow(image1)\n",
    "        \n",
    "        # Show complete image with annotated boxes\n",
    "        #plt.figure(figsize=(6,4))\n",
    "        #plt.imshow(image)"
   ]
  },
  {
   "cell_type": "markdown",
   "metadata": {},
   "source": [
    "## Make training data for classifier"
   ]
  },
  {
   "cell_type": "code",
   "execution_count": 151,
   "metadata": {},
   "outputs": [
    {
     "name": "stdout",
     "output_type": "stream",
     "text": [
      "[Error] Detector could not find a sign in image  images/images/frame0023.jpg\n",
      "[Error] Detector could not find a sign in image  images/images/frame0024.jpg\n",
      "[Error] Detector could not find a sign in image  images/images/frame0025.jpg\n",
      "[Error] Detector could not find a sign in image  images/images/frame0028.jpg\n",
      "[Error] Detector could not find a sign in image  images/images/frame0049.jpg\n",
      "[Error] Detector could not find a sign in image  images/images2/frame0133.jpg\n",
      "[Error] Detector could not find a sign in image  images/images2/frame0135.jpg\n",
      "[Error] Detector could not find a sign in image  images/images2/frame0139.jpg\n",
      "[Error] Detector could not find a sign in image  images/images2/frame0149.jpg\n",
      "[Error] Detector could not find a sign in image  images/images2/frame0150.jpg\n",
      "[Error] Detector could not find a sign in image  images/images2/frame0151.jpg\n",
      "[Error] Detector could not find a sign in image  images/images2/frame0152.jpg\n",
      "[Error] Detector could not find a sign in image  images/images2/frame0153.jpg\n",
      "[Error] Detector could not find a sign in image  images/images2/frame0154.jpg\n",
      "[Error] Detector could not find a sign in image  images/images2/frame0155.jpg\n",
      "[Error] Detector could not find a sign in image  images/images2/frame0156.jpg\n",
      "[Error] Detector could not find a sign in image  images/images2/frame0157.jpg\n",
      "[Error] Detector could not find a sign in image  images/images2/frame0158.jpg\n",
      "[Error] Detector could not find a sign in image  images/images2/frame0172.jpg\n",
      "[Error] Detector could not find a sign in image  images/images2/frame0174.jpg\n",
      "[Error] Detector could not find a sign in image  images/images2/frame0175.jpg\n",
      "[Error] Detector could not find a sign in image  images/images2/frame0176.jpg\n",
      "[Error] Detector could not find a sign in image  images/images2/frame0177.jpg\n",
      "[Error] Detector could not find a sign in image  images/images2/frame0178.jpg\n",
      "[Error] Detector could not find a sign in image  images/images2/frame0179.jpg\n",
      "[Error] Detector could not find a sign in image  images/images2/frame0180.jpg\n",
      "[Error] Detector could not find a sign in image  images/images2/frame0181.jpg\n",
      "[Error] Detector could not find a sign in image  images/images2/frame0182.jpg\n",
      "[Error] Detector could not find a sign in image  images/images2/frame0183.jpg\n",
      "[Error] Detector could not find a sign in image  images/images2/frame0184.jpg\n",
      "[Error] Detector could not find a sign in image  images/images2/frame0185.jpg\n",
      "[Error] Detector could not find a sign in image  images/images2/frame0186.jpg\n",
      "[Error] Detector could not find a sign in image  images/images2/frame0187.jpg\n",
      "[Error] Detector could not find a sign in image  images/images2/frame0188.jpg\n",
      "[Error] Detector could not find a sign in image  images/images2/frame0189.jpg\n",
      "[Error] Detector could not find a sign in image  images/images2/frame0190.jpg\n",
      "[Error] Detector could not find a sign in image  images/images2/frame0191.jpg\n",
      "[Error] Detector could not find a sign in image  images/images2/frame0192.jpg\n",
      "[Error] Detector could not find a sign in image  images/images2/frame0193.jpg\n",
      "[Error] Detector could not find a sign in image  images/images2/frame0194.jpg\n",
      "[Error] Detector could not find a sign in image  images/images2/frame0195.jpg\n",
      "[Error] Detector could not find a sign in image  images/images2/frame0196.jpg\n",
      "[Error] Detector could not find a sign in image  images/images2/frame0197.jpg\n",
      "[Error] Detector could not find a sign in image  images/images2/frame0198.jpg\n",
      "[Error] Detector could not find a sign in image  images/images2/frame0199.jpg\n",
      "[Error] Detector could not find a sign in image  images/images2/frame0200.jpg\n",
      "[Error] Detector could not find a sign in image  images/images2/frame0201.jpg\n",
      "[Error] Detector could not find a sign in image  images/images2/frame0202.jpg\n",
      "[Error] Detector could not find a sign in image  images/images2/frame0203.jpg\n",
      "[Error] Detector could not find a sign in image  images/images2/frame0204.jpg\n",
      "TL_Detector did not detect  50  of  293  images ->  17.1  %\n"
     ]
    }
   ],
   "source": [
    "new_content = list()\n",
    "error_counter = 0\n",
    "total_counter = 0\n",
    "with tf.Session(graph=detection_graph) as sess:                \n",
    "    for path, label in content:\n",
    "        img = cv2.imread(path)\n",
    "        image = cv2.cvtColor(img, cv2.COLOR_BGR2RGB)\n",
    "        \n",
    "        # Detect traffic light in image\n",
    "        coords = detect_tl(image)\n",
    "        \n",
    "        # Show detected traffic light only\n",
    "        try:\n",
    "            image1 = cv2.resize(image[coords[0]:coords[2], coords[1]:coords[3]], (16,32))\n",
    "\n",
    "            # Saving the image \n",
    "            filename = path[:path.find(\".jpg\")]+\"_sign_only.jpg\"\n",
    "            image1 = cv2.cvtColor(image1, cv2.COLOR_BGR2RGB)\n",
    "            cv2.imwrite(filename, image1)\n",
    "            new_content.append([filename, label])\n",
    "        except:\n",
    "            print(\"[Error] Detector could not find a sign in image \", path)\n",
    "            error_counter +=1\n",
    "        total_counter +=1\n",
    "        \n",
    "print(\"TL_Detector did not detect \", error_counter, \" of \", total_counter, \" images -> \",\n",
    "      np.around(100*error_counter/total_counter, decimals=1), \" %\")\n",
    "\n",
    "# Save info in seperate file\n",
    "with open('images/signlabels_sign_only.csv', 'w', newline='') as csvfile:\n",
    "    spamwriter = csv.writer(csvfile, delimiter=',', quotechar='|')\n",
    "    spamwriter.writerows(new_content)"
   ]
  },
  {
   "cell_type": "code",
   "execution_count": 153,
   "metadata": {},
   "outputs": [
    {
     "name": "stdout",
     "output_type": "stream",
     "text": [
      "(243, 32, 16, 3) uint8\n",
      "(243,) int32\n"
     ]
    }
   ],
   "source": [
    "# Load images with signs only for training\n",
    "images, labels = load_content(new_content)\n",
    "\n",
    "print(images.shape, images.dtype)\n",
    "print(labels.shape, labels.dtype)"
   ]
  },
  {
   "cell_type": "markdown",
   "metadata": {},
   "source": [
    "# Build tl_Classifier model"
   ]
  },
  {
   "cell_type": "code",
   "execution_count": 173,
   "metadata": {},
   "outputs": [],
   "source": [
    "from keras.models import Sequential\n",
    "from keras.layers import Dense, Flatten, Conv2D, MaxPooling2D\n",
    "from keras.layers.core import Activation\n",
    "from keras.optimizers import adam\n",
    "from keras.utils.data_utils import Sequence\n",
    "from keras.utils import plot_model, to_categorical"
   ]
  },
  {
   "cell_type": "code",
   "execution_count": 174,
   "metadata": {},
   "outputs": [],
   "source": [
    "# ================================================================================\n",
    "# standard CNN model\n",
    "def build_model():\n",
    "    '''\n",
    "    Build CNN model for light color classification\n",
    "    '''\n",
    "    num_classes = 3\n",
    "    model = Sequential()\n",
    "    model.add(Conv2D(8, (3, 3), padding='same',\n",
    "                     input_shape=(32,16,3)))\n",
    "    model.add(Activation('relu'))\n",
    "    model.add(Conv2D(16, (3, 3)))\n",
    "    model.add(Activation('relu'))\n",
    "    model.add(MaxPooling2D(pool_size=(2, 2)))\n",
    "    model.add(Conv2D(32, (3, 3)))\n",
    "    model.add(Activation('relu'))\n",
    "    model.add(MaxPooling2D(pool_size=(2, 2)))\n",
    "    model.add(Flatten())\n",
    "    model.add(Dense(64))\n",
    "    model.add(Activation('relu'))\n",
    "    model.add(Dense(num_classes))\n",
    "    model.add(Activation('softmax'))\n",
    "\n",
    "    model.summary()\n",
    "    plot_model(model, to_file='tl_classifier_model.png')\n",
    "\n",
    "    return model"
   ]
  },
  {
   "cell_type": "code",
   "execution_count": 187,
   "metadata": {},
   "outputs": [
    {
     "name": "stdout",
     "output_type": "stream",
     "text": [
      "_________________________________________________________________\n",
      "Layer (type)                 Output Shape              Param #   \n",
      "=================================================================\n",
      "conv2d_28 (Conv2D)           (None, 32, 16, 8)         224       \n",
      "_________________________________________________________________\n",
      "activation_46 (Activation)   (None, 32, 16, 8)         0         \n",
      "_________________________________________________________________\n",
      "conv2d_29 (Conv2D)           (None, 30, 14, 16)        1168      \n",
      "_________________________________________________________________\n",
      "activation_47 (Activation)   (None, 30, 14, 16)        0         \n",
      "_________________________________________________________________\n",
      "max_pooling2d_19 (MaxPooling (None, 15, 7, 16)         0         \n",
      "_________________________________________________________________\n",
      "conv2d_30 (Conv2D)           (None, 13, 5, 32)         4640      \n",
      "_________________________________________________________________\n",
      "activation_48 (Activation)   (None, 13, 5, 32)         0         \n",
      "_________________________________________________________________\n",
      "max_pooling2d_20 (MaxPooling (None, 6, 2, 32)          0         \n",
      "_________________________________________________________________\n",
      "flatten_10 (Flatten)         (None, 384)               0         \n",
      "_________________________________________________________________\n",
      "dense_19 (Dense)             (None, 64)                24640     \n",
      "_________________________________________________________________\n",
      "activation_49 (Activation)   (None, 64)                0         \n",
      "_________________________________________________________________\n",
      "dense_20 (Dense)             (None, 3)                 195       \n",
      "_________________________________________________________________\n",
      "activation_50 (Activation)   (None, 3)                 0         \n",
      "=================================================================\n",
      "Total params: 30,867\n",
      "Trainable params: 30,867\n",
      "Non-trainable params: 0\n",
      "_________________________________________________________________\n"
     ]
    }
   ],
   "source": [
    "seq_model = build_model()\n",
    "seq_model.compile(optimizer='Adam',loss='categorical_crossentropy',metrics=['accuracy'])\n",
    "# Load data and one hot encode\n",
    "X_train, X_test, y_train, y_test = train_test_split(images, labels, test_size=0.2, random_state=42)\n",
    "y_train = to_categorical(y_train)\n",
    "y_test = to_categorical(y_test)"
   ]
  },
  {
   "cell_type": "code",
   "execution_count": 189,
   "metadata": {},
   "outputs": [
    {
     "name": "stdout",
     "output_type": "stream",
     "text": [
      "Train on 194 samples, validate on 49 samples\n",
      "Epoch 1/10\n",
      "194/194 [==============================] - 0s 2ms/step - loss: 0.0831 - acc: 0.9948 - val_loss: 6.5444e-07 - val_acc: 1.0000\n",
      "Epoch 2/10\n",
      "194/194 [==============================] - 0s 2ms/step - loss: 0.0831 - acc: 0.9948 - val_loss: 5.3158e-07 - val_acc: 1.0000\n",
      "Epoch 3/10\n",
      "194/194 [==============================] - 0s 2ms/step - loss: 0.0831 - acc: 0.9948 - val_loss: 4.7927e-07 - val_acc: 1.0000\n",
      "Epoch 4/10\n",
      "194/194 [==============================] - 0s 2ms/step - loss: 0.0831 - acc: 0.9948 - val_loss: 4.5373e-07 - val_acc: 1.0000\n",
      "Epoch 5/10\n",
      "194/194 [==============================] - 0s 2ms/step - loss: 0.0831 - acc: 0.9948 - val_loss: 4.4035e-07 - val_acc: 1.0000\n",
      "Epoch 6/10\n",
      "194/194 [==============================] - 0s 1ms/step - loss: 0.0831 - acc: 0.9948 - val_loss: 4.3426e-07 - val_acc: 1.0000\n",
      "Epoch 7/10\n",
      "194/194 [==============================] - 0s 2ms/step - loss: 0.0831 - acc: 0.9948 - val_loss: 4.3062e-07 - val_acc: 1.0000\n",
      "Epoch 8/10\n",
      "194/194 [==============================] - 0s 2ms/step - loss: 0.0831 - acc: 0.9948 - val_loss: 4.2818e-07 - val_acc: 1.0000\n",
      "Epoch 9/10\n",
      "194/194 [==============================] - 0s 2ms/step - loss: 0.0831 - acc: 0.9948 - val_loss: 4.2575e-07 - val_acc: 1.0000\n",
      "Epoch 10/10\n",
      "194/194 [==============================] - 0s 2ms/step - loss: 0.0831 - acc: 0.9948 - val_loss: 4.2332e-07 - val_acc: 1.0000\n"
     ]
    },
    {
     "data": {
      "text/plain": [
       "<keras.callbacks.History at 0x21f06902588>"
      ]
     },
     "execution_count": 189,
     "metadata": {},
     "output_type": "execute_result"
    }
   ],
   "source": [
    "seq_model.fit(X_train, y_train, epochs=10, batch_size=32, verbose=1, shuffle=True, validation_data=(X_test, y_test))"
   ]
  },
  {
   "cell_type": "markdown",
   "metadata": {},
   "source": [
    "## Save keras model"
   ]
  },
  {
   "cell_type": "code",
   "execution_count": 178,
   "metadata": {},
   "outputs": [],
   "source": [
    "def save_keras_model(save_model, path):\n",
    "    \"\"\"Saves keras model to given path.\"\"\"\n",
    "    save_model.save_weights(path + 'model.h5')\n",
    "\n",
    "    with open(path + 'model.json', \"w\") as text_file:\n",
    "        text_file.write(save_model.to_json())"
   ]
  },
  {
   "cell_type": "code",
   "execution_count": 179,
   "metadata": {},
   "outputs": [],
   "source": [
    "save_keras_model(seq_model, 'tl_classifier_')"
   ]
  },
  {
   "cell_type": "markdown",
   "metadata": {},
   "source": [
    "# Test on sample"
   ]
  },
  {
   "cell_type": "code",
   "execution_count": 211,
   "metadata": {},
   "outputs": [
    {
     "data": {
      "text/plain": [
       "('Pred: ', 0, 'True: ', 1, ' [0: rot, 1: gelb, 2: grün]')"
      ]
     },
     "execution_count": 211,
     "metadata": {},
     "output_type": "execute_result"
    },
    {
     "data": {
      "image/png": "[encoded data removed]",
      "text/plain": [
       "<matplotlib.figure.Figure at 0x21f06f299e8>"
      ]
     },
     "metadata": {},
     "output_type": "display_data"
    },
    {
     "data": {
      "image/png": "[encoded data removed]",
      "text/plain": [
       "<matplotlib.figure.Figure at 0x21f071da0f0>"
      ]
     },
     "metadata": {},
     "output_type": "display_data"
    }
   ],
   "source": [
    "take_ID = False # Visu image from dataset\n",
    "\n",
    "if take_ID:\n",
    "    # Visualize Image from dataset\n",
    "    ID = 80\n",
    "    img = images[ID]\n",
    "    label = labels[ID]\n",
    "    plt.imshow(img)\n",
    "else:\n",
    "    # Or load something else\n",
    "    path = \"images/image009.jpg\"\n",
    "    img = cv2.imread(path)\n",
    "    img = cv2.cvtColor(img, cv2.COLOR_BGR2RGB)\n",
    "    plt.figure(figsize=(6,4))\n",
    "    plt.imshow(img)\n",
    "    # Detect traffic light in image\n",
    "    with tf.Session(graph=detection_graph) as sess:\n",
    "        coords = detect_tl(img)\n",
    "\n",
    "    # Show detected traffic light only\n",
    "    img = cv2.resize(img[coords[0]:coords[2], coords[1]:coords[3]], (16,32))\n",
    "    plt.figure(figsize=(2, 2))\n",
    "    plt.imshow(img)\n",
    "\n",
    "\n",
    "image_np = np.expand_dims(np.asarray(img, dtype=np.uint8), 0)\n",
    "pred_label = np.argmax(seq_model.predict(image_np)[0])\n",
    "\"Pred: \",pred_label, \"True: \", label, \" [0: rot, 1: gelb, 2: grün]\""
   ]
  },
  {
   "cell_type": "markdown",
   "metadata": {},
   "source": [
    "## Timing Detection\n",
    "\n",
    "The model zoo comes with a variety of models, each its benefits and costs. Below you'll time some of these models. The general tradeoff being sacrificing model accuracy for seconds per frame (SPF)."
   ]
  },
  {
   "cell_type": "code",
   "execution_count": null,
   "metadata": {},
   "outputs": [],
   "source": [
    "def time_detection(sess, img_height, img_width, runs=10):\n",
    "    image_tensor = sess.graph.get_tensor_by_name('image_tensor:0')\n",
    "    detection_boxes = sess.graph.get_tensor_by_name('detection_boxes:0')\n",
    "    detection_scores = sess.graph.get_tensor_by_name('detection_scores:0')\n",
    "    detection_classes = sess.graph.get_tensor_by_name('detection_classes:0')\n",
    "\n",
    "    # warmup\n",
    "    gen_image = np.uint8(np.random.randn(1, img_height, img_width, 3))\n",
    "    sess.run([detection_boxes, detection_scores, detection_classes], feed_dict={image_tensor: gen_image})\n",
    "    \n",
    "    times = np.zeros(runs)\n",
    "    for i in range(runs):\n",
    "        t0 = time.time()\n",
    "        sess.run([detection_boxes, detection_scores, detection_classes], feed_dict={image_tensor: image_np})\n",
    "        t1 = time.time()\n",
    "        times[i] = (t1 - t0) * 1000\n",
    "    return times"
   ]
  },
  {
   "cell_type": "code",
   "execution_count": null,
   "metadata": {},
   "outputs": [],
   "source": [
    "with tf.Session(graph=detection_graph) as sess:\n",
    "    times = time_detection(sess, 600, 1000, runs=10)"
   ]
  },
  {
   "cell_type": "code",
   "execution_count": null,
   "metadata": {},
   "outputs": [],
   "source": [
    "# Create a figure instance\n",
    "fig = plt.figure(1, figsize=(9, 6))\n",
    "\n",
    "# Create an axes instance\n",
    "ax = fig.add_subplot(111)\n",
    "plt.title(\"Object Detection Timings\")\n",
    "plt.ylabel(\"Time (ms)\")\n",
    "\n",
    "# Create the boxplot\n",
    "plt.style.use('fivethirtyeight')\n",
    "bp = ax.boxplot(times)"
   ]
  },
  {
   "cell_type": "markdown",
   "metadata": {},
   "source": [
    "### Exercise 4 - Model Tradeoffs\n",
    "\n",
    "Download a few models from the [model zoo](https://github.com/tensorflow/models/blob/master/research/object_detection/g3doc/detection_model_zoo.md) and compare the timings."
   ]
  },
  {
   "cell_type": "markdown",
   "metadata": {},
   "source": [
    "## Detection on a Video\n",
    "\n",
    "Finally run your pipeline on [this short video](https://s3-us-west-1.amazonaws.com/udacity-selfdrivingcar/advanced_deep_learning/driving.mp4)."
   ]
  },
  {
   "cell_type": "code",
   "execution_count": null,
   "metadata": {},
   "outputs": [],
   "source": [
    "# Import everything needed to edit/save/watch video clips\n",
    "from moviepy.editor import VideoFileClip\n",
    "from IPython.display import HTML"
   ]
  },
  {
   "cell_type": "code",
   "execution_count": null,
   "metadata": {},
   "outputs": [],
   "source": [
    "HTML(\"\"\"\n",
    "<video width=\"960\" height=\"600\" controls>\n",
    "  <source src=\"{0}\" type=\"video/mp4\">\n",
    "</video>\n",
    "\"\"\".format('driving.mp4'))"
   ]
  },
  {
   "cell_type": "markdown",
   "metadata": {
    "collapsed": true
   },
   "source": [
    "### Exercise 5 - Object Detection on a Video\n",
    "\n",
    "Run an object detection pipeline on the above clip."
   ]
  },
  {
   "cell_type": "code",
   "execution_count": null,
   "metadata": {},
   "outputs": [],
   "source": [
    "clip = VideoFileClip('driving.mp4')"
   ]
  },
  {
   "cell_type": "code",
   "execution_count": null,
   "metadata": {},
   "outputs": [],
   "source": [
    "# The input is an NumPy array.\n",
    "# The output should also be a NumPy array.\n",
    "def pipeline(img):\n",
    "    draw_img = Image.fromarray(img)\n",
    "    boxes, scores, classes = sess.run([detection_boxes, detection_scores, detection_classes], feed_dict={image_tensor: np.expand_dims(img, 0)})\n",
    "    # Remove unnecessary dimensions\n",
    "    boxes = np.squeeze(boxes)\n",
    "    scores = np.squeeze(scores)\n",
    "    classes = np.squeeze(classes)\n",
    "\n",
    "    confidence_cutoff = 0.8\n",
    "    # Filter boxes with a confidence score less than `confidence_cutoff`\n",
    "    boxes, scores, classes = filter_boxes(confidence_cutoff, boxes, scores, classes)\n",
    "\n",
    "    # The current box coordinates are normalized to a range between 0 and 1.\n",
    "    # This converts the coordinates actual location on the image.\n",
    "    width, height = draw_img.size\n",
    "    box_coords = to_image_coords(boxes, height, width)\n",
    "\n",
    "    # Each class with be represented by a differently colored box\n",
    "    draw_boxes(draw_img, box_coords, classes)\n",
    "    return np.array(draw_img)"
   ]
  },
  {
   "cell_type": "markdown",
   "metadata": {},
   "source": [
    "**[Sample solution](./exercise-solutions/e5.py)**"
   ]
  },
  {
   "cell_type": "code",
   "execution_count": null,
   "metadata": {},
   "outputs": [],
   "source": [
    "with tf.Session(graph=detection_graph) as sess:\n",
    "    image_tensor = sess.graph.get_tensor_by_name('image_tensor:0')\n",
    "    detection_boxes = sess.graph.get_tensor_by_name('detection_boxes:0')\n",
    "    detection_scores = sess.graph.get_tensor_by_name('detection_scores:0')\n",
    "    detection_classes = sess.graph.get_tensor_by_name('detection_classes:0')\n",
    "    \n",
    "    new_clip = clip.fl_image(pipeline)\n",
    "    \n",
    "    # write to file\n",
    "    new_clip.write_videofile('result.mp4')"
   ]
  },
  {
   "cell_type": "code",
   "execution_count": null,
   "metadata": {},
   "outputs": [],
   "source": [
    "HTML(\"\"\"\n",
    "<video width=\"960\" height=\"600\" controls>\n",
    "  <source src=\"{0}\" type=\"video/mp4\">\n",
    "</video>\n",
    "\"\"\".format('result.mp4'))"
   ]
  },
  {
   "cell_type": "markdown",
   "metadata": {},
   "source": [
    "## Further Exploration\n",
    "\n",
    "Some ideas to take things further:\n",
    "\n",
    "* Finetune the model on a new dataset more relevant to autonomous vehicles. Instead of loading the frozen inference graph you'll load the checkpoint.\n",
    "* Optimize the model and get the FPS as low as possible.\n",
    "* Build your own detector. There are several base model pretrained on ImageNet you can choose from. [Keras](https://keras.io/applications/) is probably the quickest way to get setup in this regard.\n"
   ]
  },
  {
   "cell_type": "code",
   "execution_count": null,
   "metadata": {},
   "outputs": [],
   "source": []
  }
 ],
 "metadata": {
  "kernelspec": {
   "display_name": "Python 3",
   "language": "python",
   "name": "python3"
  },
  "language_info": {
   "codemirror_mode": {
    "name": "ipython",
    "version": 3
   },
   "file_extension": ".py",
   "mimetype": "text/x-python",
   "name": "python",
   "nbconvert_exporter": "python",
   "pygments_lexer": "ipython3",
   "version": "3.6.3"
  }
 },
 "nbformat": 4,
 "nbformat_minor": 2
}
