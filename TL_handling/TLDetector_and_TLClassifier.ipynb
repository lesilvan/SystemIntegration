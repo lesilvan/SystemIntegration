{
 "cells": [
  {
   "cell_type": "markdown",
   "metadata": {},
   "source": [
    "# CarND Object Detection Lab\n",
    "\n",
    "Let's get started!"
   ]
  },
  {
   "cell_type": "code",
   "execution_count": 1,
   "metadata": {},
   "outputs": [],
   "source": [
    "import tensorflow as tf\n",
    "import numpy as np\n",
    "import matplotlib.pyplot as plt\n",
    "#from PIL import Image\n",
    "#from PIL import ImageDraw\n",
    "#from PIL import ImageColor\n",
    "import time\n",
    "#from scipy.stats import norm\n",
    "import os\n",
    "\n",
    "%matplotlib inline\n",
    "plt.style.use('ggplot')\n",
    "os.chdir('C:\\\\Users\\\\Silvan\\\\Documents\\\\Udacity_Nanodegree\\\\Project 9_Autonomous Vehicle\\\\Capstone')"
   ]
  },
  {
   "cell_type": "markdown",
   "metadata": {},
   "source": [
    "## Prepare dataset for training and validation"
   ]
  },
  {
   "cell_type": "code",
   "execution_count": 2,
   "metadata": {},
   "outputs": [],
   "source": [
    "import csv\n",
    "import pandas as pd\n",
    "import cv2\n",
    "from sklearn.model_selection import train_test_split"
   ]
  },
  {
   "cell_type": "code",
   "execution_count": null,
   "metadata": {},
   "outputs": [],
   "source": [
    "\"\"\"# Read in info about raw data from car camera and safe in df (pd.DataFrame format)\n",
    "with open('images/images/classes.csv', newline='') as csvfile:\n",
    "    spamreader = csv.reader(csvfile, delimiter=',', quotechar='|')\n",
    "    content = list()\n",
    "    for row in spamreader:\n",
    "        #print(', '.join(row))\n",
    "        row[0] = 'images/images/'+row[0]\n",
    "        content.append(row)\n",
    "\n",
    "with open('images/images2/classes.csv', newline='') as csvfile:\n",
    "    spamreader = csv.reader(csvfile, delimiter=',', quotechar='|')\n",
    "    for row in spamreader:\n",
    "        #print(', '.join(row))\n",
    "        row[0] = 'images/images2/'+row[0]\n",
    "        content.append(row)\n",
    "#df = pd.DataFrame(data=content, columns=[\"path\", \"class\"])\n",
    "#df[\"class\"].value_counts(),df.describe()\n",
    "content = np.array(content)\"\"\""
   ]
  },
  {
   "cell_type": "code",
   "execution_count": 3,
   "metadata": {},
   "outputs": [],
   "source": [
    "content = list()\n",
    "with open('images/signlabels.csv', newline='') as csvfile:\n",
    "    spamreader = csv.reader(csvfile, delimiter=',', quotechar='|')\n",
    "    for row in spamreader:\n",
    "        content.append(row)\n",
    "content = np.array(content)"
   ]
  },
  {
   "cell_type": "code",
   "execution_count": 4,
   "metadata": {},
   "outputs": [
    {
     "name": "stdout",
     "output_type": "stream",
     "text": [
      "(293, 600, 800, 3) uint8\n",
      "(293,) int32\n"
     ]
    }
   ],
   "source": [
    "def load_content(content, verbose=1):\n",
    "    images = list()\n",
    "    labels = list()\n",
    "    paths = list()\n",
    "    for path, label in content:\n",
    "        paths.append(path)\n",
    "        img = cv2.imread(path)\n",
    "        img = cv2.cvtColor(img, cv2.COLOR_BGR2RGB)\n",
    "        images.append(img)\n",
    "        if label == \"green\":\n",
    "            labels.append(2)\n",
    "        elif label == \"red\":\n",
    "            labels.append(0)\n",
    "        elif label == \"yellow\":\n",
    "            labels.append(1)\n",
    "        else:\n",
    "            labels.append(4)\n",
    "            print(\"[ERROR] Label of image \", path, \" neither red, yellow, or green!\")\n",
    "    images = np.asarray(images)\n",
    "    labels = np.asarray(labels)\n",
    "    if verbose ==1:\n",
    "        return images, labels\n",
    "    elif verbose ==2:\n",
    "        return images, labels, paths\n",
    "\n",
    "\n",
    "images, labels = load_content(content)\n",
    "print(images.shape, images.dtype)\n",
    "print(labels.shape, labels.dtype)"
   ]
  },
  {
   "cell_type": "markdown",
   "metadata": {},
   "source": [
    "## Object Detection Inference\n",
    "\n",
    "In this part of the lab traffic light detection is using pretrained object detection models. The source of the used models was the [model zoo](https://github.com/tensorflow/models/blob/master/research/object_detection/g3doc/detection_model_zoo.md), where one can download the relevant models."
   ]
  },
  {
   "cell_type": "code",
   "execution_count": 32,
   "metadata": {},
   "outputs": [],
   "source": [
    "# Frozen inference graph files. NOTE: change the path to where you saved the models.\n",
    "#SSD_GRAPH_FILE = 'models/ssd_mobilenet_v1_coco_11_06_2017/frozen_inference_graph.pb'\n",
    "#RFCN_GRAPH_FILE = 'models/rfcn_resnet101_coco_11_06_2017/frozen_inference_graph.pb'\n",
    "#FASTER_RCNN_GRAPH_FILE = 'models/faster_rcnn_inception_resnet_v2_atrous_coco_11_06_2017/frozen_inference_graph.pb'\n",
    "#FASTER_RCNN_KITTI_FILE = 'models/faster_rcnn_resnet101_kitti_2018_01_28/frozen_inference_graph.pb'\n",
    "SSDLITE_GRAPH_FILE = 'models/ssdlite_mobilenet_v2_coco_2018_05_09/frozen_inference_graph.pb'"
   ]
  },
  {
   "cell_type": "markdown",
   "metadata": {},
   "source": [
    "Below are utility functions. The main purpose of these is to draw the bounding boxes back onto the original image."
   ]
  },
  {
   "cell_type": "code",
   "execution_count": 33,
   "metadata": {},
   "outputs": [],
   "source": [
    "# Colors (one for each class)\n",
    "#cmap = ImageColor.colormap\n",
    "#print(\"Number of colors =\", len(cmap))\n",
    "#COLOR_LIST = sorted([c for c in cmap.keys()])\n",
    "\n",
    "#\n",
    "# Utility funcs\n",
    "#\n",
    "def filter_boxes(min_score, boxes, scores, classes):\n",
    "    \"\"\"Return boxes with a confidence >= `min_score`\"\"\"\n",
    "    n = len(classes)\n",
    "    idxs = []\n",
    "    for i in range(n):\n",
    "        if scores[i] >= min_score:\n",
    "            idxs.append(i)\n",
    "    \n",
    "    filtered_boxes = boxes[idxs, ...]\n",
    "    filtered_scores = scores[idxs, ...]\n",
    "    filtered_classes = classes[idxs, ...]\n",
    "    return filtered_boxes, filtered_scores, filtered_classes\n",
    "\n",
    "def filter_boxes1(min_score, search_class, boxes, scores, classes):\n",
    "    \"\"\"Return boxes with a confidence >= `min_score`\"\"\"\n",
    "    n = len(classes)\n",
    "    idxs = []\n",
    "    for i in range(n):\n",
    "        if scores[i] >= min_score and classes[i] == search_class:\n",
    "            idxs.append(i)\n",
    "            break\n",
    "    \n",
    "    filtered_boxes = boxes[idxs, ...]\n",
    "    filtered_scores = scores[idxs, ...]\n",
    "    filtered_classes = classes[idxs, ...]\n",
    "    return filtered_boxes, filtered_scores, filtered_classes\n",
    "\n",
    "def to_image_coords(boxes, height, width):\n",
    "    \"\"\"\n",
    "    The original box coordinate output is normalized, i.e [0, 1].\n",
    "    \n",
    "    This converts it back to the original coordinate based on the image\n",
    "    size.\n",
    "    \"\"\"\n",
    "    box_coords = np.zeros_like(boxes)\n",
    "    box_coords[:, 0] = boxes[:, 0] * height\n",
    "    box_coords[:, 1] = boxes[:, 1] * width\n",
    "    box_coords[:, 2] = boxes[:, 2] * height\n",
    "    box_coords[:, 3] = boxes[:, 3] * width\n",
    "    \n",
    "    return box_coords\n",
    "\n",
    "def draw_boxes(image_path, boxes, classes, thickness=4):\n",
    "    \"\"\"Draw bounding boxes on the image\"\"\"\n",
    "    image = Image.open(image_path)\n",
    "    draw = ImageDraw.Draw(image)\n",
    "    for i in range(len(boxes)):\n",
    "        bot, left, top, right = boxes[i, ...]\n",
    "        class_id = int(classes[i])\n",
    "        color = COLOR_LIST[class_id]\n",
    "        draw.line([(left, top), (left, bot), (right, bot), (right, top), (left, top)], width=thickness, fill=color)\n",
    "        \n",
    "def load_graph(graph_file):\n",
    "    \"\"\"Loads a frozen inference graph\"\"\"\n",
    "    graph = tf.Graph()\n",
    "    with graph.as_default():\n",
    "        od_graph_def = tf.GraphDef()\n",
    "        with tf.gfile.GFile(graph_file, 'rb') as fid:\n",
    "            serialized_graph = fid.read()\n",
    "            od_graph_def.ParseFromString(serialized_graph)\n",
    "            tf.import_graph_def(od_graph_def, name='')\n",
    "    return graph"
   ]
  },
  {
   "cell_type": "code",
   "execution_count": 34,
   "metadata": {},
   "outputs": [],
   "source": [
    "def detect_tl(image, sess):\n",
    "    image_np = np.expand_dims(np.asarray(image, dtype=np.uint8), 0)\n",
    "    (boxes, scores, classes) = sess.run([detection_boxes, detection_scores, detection_classes], \n",
    "                                        feed_dict={image_tensor: image_np})\n",
    "\n",
    "    # Remove unnecessary dimensions\n",
    "    boxes = np.squeeze(boxes)\n",
    "    scores = np.squeeze(scores)\n",
    "    classes = np.squeeze(classes)\n",
    "\n",
    "    confidence_cutoff = 0.45\n",
    "    search_class = 10\n",
    "    # Filter boxes with a confidence score less than `confidence_cutoff`\n",
    "    boxes, scores, classes = filter_boxes1(confidence_cutoff, search_class, boxes, scores, classes)\n",
    "\n",
    "\n",
    "    # The current box coordinates are normalized to a range between 0 and 1.\n",
    "    # This converts the coordinates actual location on the image.\n",
    "    width, height = image.shape[1], image.shape[0]\n",
    "    box_coords = to_image_coords(boxes, height, width)\n",
    "\n",
    "    # Each class with be represented by a differently colored box\n",
    "    #draw_boxes(path, box_coords, classes)\n",
    "\n",
    "    # Crop image to detected traffic light\n",
    "    coords = np.squeeze(box_coords).astype(int)\n",
    "    return coords"
   ]
  },
  {
   "cell_type": "markdown",
   "metadata": {},
   "source": [
    "Below we load the graph and extract the relevant tensors using [`get_tensor_by_name`](https://www.tensorflow.org/api_docs/python/tf/Graph#get_tensor_by_name). These tensors reflect the input and outputs of the graph, or least the ones we care about for detecting objects."
   ]
  },
  {
   "cell_type": "code",
   "execution_count": 35,
   "metadata": {},
   "outputs": [],
   "source": [
    "# Change path for the moment\n",
    "model_path = 'C://Users//Silvan//Documents//Udacity_Nanodegree//Project 9_Autonomous Vehicle//Object-Detection-Lab//CarND-Object-Detection-Lab'\n",
    "actual_path = os.getcwd()\n",
    "os.chdir(model_path)\n",
    "\n",
    "#detection_graph = load_graph(SSD_GRAPH_FILE)\n",
    "#detection_graph = load_graph(FASTER_RCNN_GRAPH_FILE)\n",
    "#detection_graph = load_graph(FASTER_RCNN_KITTI_FILE)\n",
    "detection_graph = load_graph(SSDLITE_GRAPH_FILE)\n",
    "\n",
    "# The input placeholder for the image.\n",
    "# `get_tensor_by_name` returns the Tensor with the associated name in the Graph.\n",
    "image_tensor = detection_graph.get_tensor_by_name('image_tensor:0')\n",
    "\n",
    "# Each box represents a part of the image where a particular object was detected.\n",
    "detection_boxes = detection_graph.get_tensor_by_name('detection_boxes:0')\n",
    "\n",
    "# Each score represent how level of confidence for each of the objects.\n",
    "# Score is shown on the result image, together with the class label.\n",
    "detection_scores = detection_graph.get_tensor_by_name('detection_scores:0')\n",
    "\n",
    "# The classification of the object (integer id).\n",
    "detection_classes = detection_graph.get_tensor_by_name('detection_classes:0')\n",
    "\n",
    "# Change path back to former working directory\n",
    "os.chdir(actual_path)"
   ]
  },
  {
   "cell_type": "markdown",
   "metadata": {},
   "source": [
    "Run detection and classification on a sample image."
   ]
  },
  {
   "cell_type": "code",
   "execution_count": null,
   "metadata": {},
   "outputs": [],
   "source": [
    "# Load a sample image.\n",
    "\n",
    "image1 = './images/images/frame0140.jpg'\n",
    "image2 = './images/images/frame0116.jpg'\n",
    "image3 = './images/images/frame0001.jpg'\n",
    "image4 = './images/frame0092.jpg'\n",
    "#image4 = './images/image003.jpg' #flowers\n",
    "images = [image1, image2, image3, image4]\n",
    "\n",
    "with tf.Session(graph=detection_graph) as sess:                \n",
    "    # Actual detection.\n",
    "    for path in images:\n",
    "        img = cv2.imread(path)\n",
    "        image = cv2.cvtColor(img, cv2.COLOR_BGR2RGB)\n",
    "        \n",
    "        # Detect traffic light in image\n",
    "        coords = detect_tl(image, sess)\n",
    "        print(coords)\n",
    "        if coords.size > 0:\n",
    "            print(\"Trueee\")\n",
    "        # Show detected traffic light only\n",
    "        image1 = cv2.resize(image[coords[0]:coords[2], coords[1]:coords[3]], (16,32))\n",
    "        plt.figure(figsize=(2, 2))\n",
    "        plt.imshow(image1)\n",
    "        \n",
    "        # Show complete image with annotated boxes\n",
    "        #plt.figure(figsize=(6,4))\n",
    "        #plt.imshow(image)"
   ]
  },
  {
   "cell_type": "markdown",
   "metadata": {},
   "source": [
    "## SKIP!! Make training data for classifier (not necessary to run again!!)"
   ]
  },
  {
   "cell_type": "code",
   "execution_count": null,
   "metadata": {},
   "outputs": [],
   "source": [
    "new_content = list()\n",
    "error_counter = 0\n",
    "total_counter = 0\n",
    "times = list()\n",
    "base_path = \"images/sign_only\"\n",
    "os.mkdir(base_path)\n",
    "os.mkdir(base_path+\"/images\")\n",
    "os.mkdir(base_path+\"/images2\")\n",
    "with tf.Session(graph=detection_graph) as sess:                \n",
    "    for path, label in content:\n",
    "        img = cv2.imread(path)\n",
    "        image = cv2.cvtColor(img, cv2.COLOR_BGR2RGB)\n",
    "        \n",
    "        # Detect traffic light in image and record time needed for detection\n",
    "        t0 = time.time()\n",
    "        coords = detect_tl(image, sess)\n",
    "        t1 = time.time()\n",
    "        times.append((t1 - t0) * 1000)\n",
    "        \n",
    "        # Show detected traffic light only\n",
    "        try:\n",
    "            image1 = cv2.resize(image[coords[0]:coords[2], coords[1]:coords[3]], (16,32))\n",
    "\n",
    "            # Saving the image \n",
    "            filename = base_path+path[path.find(\"/\"):path.find(\".jpg\")]+\"_sign_only.jpg\"\n",
    "            image1 = cv2.cvtColor(image1, cv2.COLOR_BGR2RGB)\n",
    "            cv2.imwrite(filename, image1)\n",
    "            new_content.append([filename, label])\n",
    "        except:\n",
    "            print(\"[Error] Detector could not find a sign in image \", path)\n",
    "            error_counter +=1\n",
    "        total_counter +=1\n",
    "        \n",
    "print(\"TL_Detector did not detect \", error_counter, \" of \", total_counter, \" images -> \",\n",
    "      np.around(100*error_counter/total_counter, decimals=1), \" %\")\n",
    "\n",
    "times = np.array(times)\n",
    "# Save info in seperate file\n",
    "with open(base_path+'/signlabels_sign_only.csv', 'w', newline='') as csvfile:\n",
    "    spamwriter = csv.writer(csvfile, delimiter=',', quotechar='|')\n",
    "    spamwriter.writerows(new_content)"
   ]
  },
  {
   "cell_type": "markdown",
   "metadata": {},
   "source": [
    "### Visualize needed time for detection"
   ]
  },
  {
   "cell_type": "code",
   "execution_count": null,
   "metadata": {},
   "outputs": [],
   "source": [
    "# Create a figure instance\n",
    "fig = plt.figure(1, figsize=(9, 6))\n",
    "\n",
    "# Create an axes instance\n",
    "ax = fig.add_subplot(111)\n",
    "plt.title(\"Object Detection Timings\")\n",
    "plt.ylabel(\"Time (ms)\")\n",
    "\n",
    "# Print basic info about times\n",
    "print(\"Mean:\", np.mean(times), \"ms\\nMedian:\", np.median(times), \"ms\\nFirst run:\", times[0],\n",
    "      \"ms\\nFastest run:\", min(times), \"ms\")\n",
    "# Create the boxplot\n",
    "plt.style.use('fivethirtyeight')\n",
    "bp = ax.boxplot(times)"
   ]
  },
  {
   "cell_type": "markdown",
   "metadata": {},
   "source": [
    "## Summary for model comparison:\n",
    "\n",
    "Test was made on an old laptop without activated GPU, so run times can not be taken absolutely but must be seen as relative measurement for comparison.\n",
    "\n",
    "---\n",
    "#### Model1: ssd_mobilenet_v1_coco_11_06_2017\n",
    "Did not detect traffic signs on *21.5%* of the training images.\n",
    "Needed *245.86 ms* (median) and *283.43 ms* (mean) for one run.\n",
    "First run needed *6738 ms*.\n",
    "\n",
    "#### Model2: ssdlite_mobilenet_v2_coco_2018_05_09\n",
    "Did not detect traffic signs on *17.1%* of the training images.\n",
    "Needed *152.91 ms* (median) and *176.06 ms* (mean) for one run.\n",
    "First run needed *5640 ms*.\n",
    "\n",
    "#### Model3: faster_rcnn_resnet101_kitti_2018_01_28\n",
    "Needed far longer with 7578 ms (median) per run. So it is about 50 times slower than model2 on this machine which is far to slow and the rate of detection is not relevant as this model is definitely worse than model2.\n",
    "\n",
    "#### Model4: faster_rcnn_inception_resnet_v2_atrous_coco_11_06_2017\n",
    "Needed even far longer with 50147 ms (median) per run. So it is about 328 times slower than model2 on this machine which is far to slow and the rate of detection is not relevant as this model is definitely worse than model2.\n",
    "\n",
    "---\n",
    "\n",
    "**It is obvious that model2 seems to be best suited for the traffic light detection task.**"
   ]
  },
  {
   "cell_type": "markdown",
   "metadata": {},
   "source": [
    "# TL_Classifier\n",
    "## Load training data for tl_classifier"
   ]
  },
  {
   "cell_type": "code",
   "execution_count": 5,
   "metadata": {},
   "outputs": [
    {
     "name": "stdout",
     "output_type": "stream",
     "text": [
      "(243, 32, 16, 3) uint8\n",
      "(243,) int32\n"
     ]
    }
   ],
   "source": [
    "new_content = list()\n",
    "#filename = 'images/sign_only/signlabels_sign_only.csv'\n",
    "filename = 'images/signlabels_sign_only.csv'\n",
    "with open(filename, newline='') as csvfile:\n",
    "    spamreader = csv.reader(csvfile, delimiter=',', quotechar='|')\n",
    "    for row in spamreader:\n",
    "        new_content.append(row)\n",
    "new_content = np.array(new_content)\n",
    "\n",
    "# Load images with signs only for training\n",
    "images, labels = load_content(new_content)\n",
    "\n",
    "print(images.shape, images.dtype)\n",
    "print(labels.shape, labels.dtype)"
   ]
  },
  {
   "cell_type": "markdown",
   "metadata": {},
   "source": [
    "## Build tl_Classifier model"
   ]
  },
  {
   "cell_type": "code",
   "execution_count": 6,
   "metadata": {},
   "outputs": [
    {
     "name": "stderr",
     "output_type": "stream",
     "text": [
      "Using TensorFlow backend.\n"
     ]
    }
   ],
   "source": [
    "from keras.models import Sequential, model_from_json\n",
    "from keras.layers import Dense, Flatten, Conv2D, MaxPooling2D\n",
    "from keras.layers.core import Activation\n",
    "from keras.optimizers import adam\n",
    "from keras.utils.data_utils import Sequence\n",
    "from keras.utils import plot_model, to_categorical\n",
    "from keras import backend as K\n",
    "#K.set_learning_phase(1)"
   ]
  },
  {
   "cell_type": "code",
   "execution_count": 7,
   "metadata": {},
   "outputs": [],
   "source": [
    "# ================================================================================\n",
    "# standard CNN model\n",
    "def build_model():\n",
    "    '''\n",
    "    Build CNN model for light color classification\n",
    "    '''\n",
    "    num_classes = 3\n",
    "    model = Sequential()\n",
    "    model.add(Conv2D(8, (3, 3), padding='same',\n",
    "                     input_shape=(32,16,3)))\n",
    "    model.add(Activation('relu'))\n",
    "    model.add(Conv2D(16, (3, 3)))\n",
    "    model.add(Activation('relu'))\n",
    "    model.add(MaxPooling2D(pool_size=(2, 2)))\n",
    "    model.add(Conv2D(32, (3, 3)))\n",
    "    model.add(Activation('relu'))\n",
    "    model.add(MaxPooling2D(pool_size=(2, 2)))\n",
    "    model.add(Flatten())\n",
    "    model.add(Dense(64))\n",
    "    model.add(Activation('relu'))\n",
    "    model.add(Dense(num_classes))\n",
    "    model.add(Activation('softmax'))\n",
    "\n",
    "    model.summary()\n",
    "    plot_model(model, to_file='TL_handling//tl_classifier_model.png')\n",
    "\n",
    "    return model"
   ]
  },
  {
   "cell_type": "code",
   "execution_count": 8,
   "metadata": {},
   "outputs": [
    {
     "name": "stdout",
     "output_type": "stream",
     "text": [
      "_________________________________________________________________\n",
      "Layer (type)                 Output Shape              Param #   \n",
      "=================================================================\n",
      "conv2d_1 (Conv2D)            (None, 32, 16, 8)         224       \n",
      "_________________________________________________________________\n",
      "activation_1 (Activation)    (None, 32, 16, 8)         0         \n",
      "_________________________________________________________________\n",
      "conv2d_2 (Conv2D)            (None, 30, 14, 16)        1168      \n",
      "_________________________________________________________________\n",
      "activation_2 (Activation)    (None, 30, 14, 16)        0         \n",
      "_________________________________________________________________\n",
      "max_pooling2d_1 (MaxPooling2 (None, 15, 7, 16)         0         \n",
      "_________________________________________________________________\n",
      "conv2d_3 (Conv2D)            (None, 13, 5, 32)         4640      \n",
      "_________________________________________________________________\n",
      "activation_3 (Activation)    (None, 13, 5, 32)         0         \n",
      "_________________________________________________________________\n",
      "max_pooling2d_2 (MaxPooling2 (None, 6, 2, 32)          0         \n",
      "_________________________________________________________________\n",
      "flatten_1 (Flatten)          (None, 384)               0         \n",
      "_________________________________________________________________\n",
      "dense_1 (Dense)              (None, 64)                24640     \n",
      "_________________________________________________________________\n",
      "activation_4 (Activation)    (None, 64)                0         \n",
      "_________________________________________________________________\n",
      "dense_2 (Dense)              (None, 3)                 195       \n",
      "_________________________________________________________________\n",
      "activation_5 (Activation)    (None, 3)                 0         \n",
      "=================================================================\n",
      "Total params: 30,867\n",
      "Trainable params: 30,867\n",
      "Non-trainable params: 0\n",
      "_________________________________________________________________\n"
     ]
    }
   ],
   "source": [
    "#K.set_learning_phase(1)\n",
    "seq_model = build_model()\n",
    "seq_model.compile(optimizer='Adam',loss='categorical_crossentropy',metrics=['accuracy'])\n",
    "# Load data and one hot encode\n",
    "X_train, X_test, y_train, y_test = train_test_split(images, labels, test_size=0.2, random_state=42)\n",
    "y_train = to_categorical(y_train)\n",
    "y_test = to_categorical(y_test)"
   ]
  },
  {
   "cell_type": "code",
   "execution_count": 9,
   "metadata": {},
   "outputs": [
    {
     "name": "stdout",
     "output_type": "stream",
     "text": [
      "Train on 194 samples, validate on 49 samples\n",
      "Epoch 1/10\n",
      "194/194 [==============================] - 0s - loss: 3.1354 - acc: 0.7320 - val_loss: 0.0209 - val_acc: 0.9796\n",
      "Epoch 2/10\n",
      "194/194 [==============================] - 0s - loss: 0.0506 - acc: 0.9897 - val_loss: 0.0753 - val_acc: 0.9796\n",
      "Epoch 3/10\n",
      "194/194 [==============================] - 0s - loss: 0.0110 - acc: 0.9948 - val_loss: 0.0033 - val_acc: 1.0000\n",
      "Epoch 4/10\n",
      "194/194 [==============================] - 0s - loss: 2.3609e-05 - acc: 1.0000 - val_loss: 2.8875e-04 - val_acc: 1.0000\n",
      "Epoch 5/10\n",
      "194/194 [==============================] - 0s - loss: 1.7238e-05 - acc: 1.0000 - val_loss: 1.4844e-04 - val_acc: 1.0000\n",
      "Epoch 6/10\n",
      "194/194 [==============================] - 0s - loss: 1.6855e-04 - acc: 1.0000 - val_loss: 1.2722e-04 - val_acc: 1.0000\n",
      "Epoch 7/10\n",
      "194/194 [==============================] - 0s - loss: 5.0708e-06 - acc: 1.0000 - val_loss: 1.8420e-04 - val_acc: 1.0000\n",
      "Epoch 8/10\n",
      "194/194 [==============================] - 0s - loss: 1.0367e-06 - acc: 1.0000 - val_loss: 2.2345e-04 - val_acc: 1.0000\n",
      "Epoch 9/10\n",
      "194/194 [==============================] - 0s - loss: 1.1731e-06 - acc: 1.0000 - val_loss: 2.4257e-04 - val_acc: 1.0000\n",
      "Epoch 10/10\n",
      "194/194 [==============================] - 0s - loss: 1.2183e-06 - acc: 1.0000 - val_loss: 2.5225e-04 - val_acc: 1.0000\n"
     ]
    },
    {
     "data": {
      "text/plain": [
       "<keras.callbacks.History at 0x2208c89d630>"
      ]
     },
     "execution_count": 9,
     "metadata": {},
     "output_type": "execute_result"
    }
   ],
   "source": [
    "seq_model.fit(X_train, y_train, epochs=10, batch_size=32, verbose=1, shuffle=True, validation_data=(X_test, y_test))"
   ]
  },
  {
   "cell_type": "markdown",
   "metadata": {},
   "source": [
    "## Save keras model"
   ]
  },
  {
   "cell_type": "code",
   "execution_count": 10,
   "metadata": {},
   "outputs": [],
   "source": [
    "def save_keras_model(save_model, path):\n",
    "    \"\"\"Saves keras model to given path.\"\"\"\n",
    "    save_model.save_weights(path + 'model.h5')\n",
    "\n",
    "    with open(path + 'model.json', \"w\") as text_file:\n",
    "        text_file.write(save_model.to_json())"
   ]
  },
  {
   "cell_type": "code",
   "execution_count": 11,
   "metadata": {},
   "outputs": [],
   "source": [
    "model_path = 'TL_handling//tl_classifier_'\n",
    "save_keras_model(seq_model, 'TL_handling//tl_classifier_')"
   ]
  },
  {
   "cell_type": "markdown",
   "metadata": {},
   "source": [
    "## Load pretrained model"
   ]
  },
  {
   "cell_type": "code",
   "execution_count": 12,
   "metadata": {},
   "outputs": [],
   "source": [
    "def load_model(path):\n",
    "    model = model_from_json(open(path + '.json','r').read())\n",
    "    model.load_weights(path + '.h5')\n",
    "    return model"
   ]
  },
  {
   "cell_type": "code",
   "execution_count": 13,
   "metadata": {},
   "outputs": [
    {
     "name": "stdout",
     "output_type": "stream",
     "text": [
      "_________________________________________________________________\n",
      "Layer (type)                 Output Shape              Param #   \n",
      "=================================================================\n",
      "conv2d_1 (Conv2D)            (None, 32, 16, 8)         224       \n",
      "_________________________________________________________________\n",
      "activation_1 (Activation)    (None, 32, 16, 8)         0         \n",
      "_________________________________________________________________\n",
      "conv2d_2 (Conv2D)            (None, 30, 14, 16)        1168      \n",
      "_________________________________________________________________\n",
      "activation_2 (Activation)    (None, 30, 14, 16)        0         \n",
      "_________________________________________________________________\n",
      "max_pooling2d_1 (MaxPooling2 (None, 15, 7, 16)         0         \n",
      "_________________________________________________________________\n",
      "conv2d_3 (Conv2D)            (None, 13, 5, 32)         4640      \n",
      "_________________________________________________________________\n",
      "activation_3 (Activation)    (None, 13, 5, 32)         0         \n",
      "_________________________________________________________________\n",
      "max_pooling2d_2 (MaxPooling2 (None, 6, 2, 32)          0         \n",
      "_________________________________________________________________\n",
      "flatten_1 (Flatten)          (None, 384)               0         \n",
      "_________________________________________________________________\n",
      "dense_1 (Dense)              (None, 64)                24640     \n",
      "_________________________________________________________________\n",
      "activation_4 (Activation)    (None, 64)                0         \n",
      "_________________________________________________________________\n",
      "dense_2 (Dense)              (None, 3)                 195       \n",
      "_________________________________________________________________\n",
      "activation_5 (Activation)    (None, 3)                 0         \n",
      "=================================================================\n",
      "Total params: 30,867\n",
      "Trainable params: 30,867\n",
      "Non-trainable params: 0\n",
      "_________________________________________________________________\n"
     ]
    }
   ],
   "source": [
    "model_path = 'TL_handling//tl_classifier_model'\n",
    "seq_model = load_model(model_path)\n",
    "seq_model.summary()"
   ]
  },
  {
   "cell_type": "markdown",
   "metadata": {},
   "source": [
    "### Convert keras model to tensorflog graph"
   ]
  },
  {
   "cell_type": "code",
   "execution_count": 14,
   "metadata": {},
   "outputs": [
    {
     "name": "stdout",
     "output_type": "stream",
     "text": [
      "[<tf.Tensor 'activation_5_2/Softmax:0' shape=(?, 3) dtype=float32>]\n",
      "[<tf.Tensor 'conv2d_1_input_2:0' shape=(?, 32, 16, 3) dtype=float32>]\n"
     ]
    }
   ],
   "source": [
    "# This line must be executed before loading Keras model.\n",
    "K.set_learning_phase(0)\n",
    "\n",
    "#from keras.models import load_model\n",
    "model = load_model(model_path)\n",
    "print(model.outputs)\n",
    "# [<tf.Tensor 'dense_2/Softmax:0' shape=(?, 10) dtype=float32>]\n",
    "print(model.inputs)\n",
    "# [<tf.Tensor 'conv2d_1_input:0' shape=(?, 28, 28, 1) dtype=float32>]"
   ]
  },
  {
   "cell_type": "code",
   "execution_count": 15,
   "metadata": {},
   "outputs": [
    {
     "name": "stdout",
     "output_type": "stream",
     "text": [
      "INFO:tensorflow:Froze 55 variables.\n",
      "Converted 55 variables to const ops.\n"
     ]
    }
   ],
   "source": [
    "#from keras import backend as K\n",
    "#import tensorflow as tf\n",
    "\n",
    "def freeze_session(session, keep_var_names=None, output_names=None, clear_devices=True):\n",
    "    \"\"\"\n",
    "    Freezes the state of a session into a pruned computation graph.\n",
    "\n",
    "    Creates a new computation graph where variable nodes are replaced by\n",
    "    constants taking their current value in the session. The new graph will be\n",
    "    pruned so subgraphs that are not necessary to compute the requested\n",
    "    outputs are removed.\n",
    "    @param session The TensorFlow session to be frozen.\n",
    "    @param keep_var_names A list of variable names that should not be frozen,\n",
    "                          or None to freeze all the variables in the graph.\n",
    "    @param output_names Names of the relevant graph outputs.\n",
    "    @param clear_devices Remove the device directives from the graph for better portability.\n",
    "    @return The frozen graph definition.\n",
    "    \"\"\"\n",
    "    from tensorflow.python.framework.graph_util import convert_variables_to_constants\n",
    "    graph = session.graph\n",
    "    with graph.as_default():\n",
    "        freeze_var_names = list(set(v.op.name for v in tf.global_variables()).difference(keep_var_names or []))\n",
    "        output_names = output_names or []\n",
    "        output_names += [v.op.name for v in tf.global_variables()]\n",
    "        # Graph -> GraphDef ProtoBuf\n",
    "        input_graph_def = graph.as_graph_def()\n",
    "        if clear_devices:\n",
    "            for node in input_graph_def.node:\n",
    "                node.device = \"\"\n",
    "        frozen_graph = convert_variables_to_constants(session, input_graph_def,\n",
    "                                                      output_names, freeze_var_names)\n",
    "        return frozen_graph\n",
    "\n",
    "\n",
    "frozen_graph = freeze_session(K.get_session(),\n",
    "                              output_names=[out.op.name for out in model.outputs])"
   ]
  },
  {
   "cell_type": "code",
   "execution_count": 16,
   "metadata": {},
   "outputs": [
    {
     "data": {
      "text/plain": [
       "'TL_handling\\\\tl_classifier_tf_model.pb'"
      ]
     },
     "execution_count": 16,
     "metadata": {},
     "output_type": "execute_result"
    }
   ],
   "source": [
    "# Save to ./model/tf_model.pb\n",
    "CLASSIFIER_GRAPH_FILE = 'TL_handling/tl_classifier_tf_model.pb'\n",
    "model_path = 'TL_handling'\n",
    "tf.train.write_graph(frozen_graph, model_path,\"tl_classifier_tf_model.pb\", as_text=False)"
   ]
  },
  {
   "cell_type": "markdown",
   "metadata": {},
   "source": [
    "## Load Graph model"
   ]
  },
  {
   "cell_type": "code",
   "execution_count": 26,
   "metadata": {},
   "outputs": [],
   "source": [
    "classifier_graph = load_graph(CLASSIFIER_GRAPH_FILE)\n",
    "# Get output tensor of classifier model\n",
    "output_tensor = classifier_graph.get_tensor_by_name('activation_5_2/Softmax:0')\n",
    "\n",
    "# Get input tensor of classifier model\n",
    "input_tensor = classifier_graph.get_tensor_by_name('conv2d_1_input_2:0')"
   ]
  },
  {
   "cell_type": "markdown",
   "metadata": {},
   "source": [
    "# Test on sample\n",
    "## With tf model"
   ]
  },
  {
   "cell_type": "code",
   "execution_count": 28,
   "metadata": {},
   "outputs": [
    {
     "data": {
      "text/plain": [
       "('Pred: ', 1, 'True: ', 1, ' [0: red, 1:yellow, 2: green]')"
      ]
     },
     "execution_count": 28,
     "metadata": {},
     "output_type": "execute_result"
    },
    {
     "data": {
      "image/png": "[encoded data removed]",
      "text/plain": [
       "<matplotlib.figure.Figure at 0x2208e61f438>"
      ]
     },
     "metadata": {},
     "output_type": "display_data"
    }
   ],
   "source": [
    "take_ID = True # Visu image from dataset\n",
    "times = list()\n",
    "time_labels = list()\n",
    "\n",
    "if take_ID:\n",
    "    # Visualize Image from dataset\n",
    "    ID = 80 #yellow\n",
    "    #ID = 40 #red\n",
    "    #ID = 150 #green\n",
    "    img = images[ID]\n",
    "    label = labels[ID]\n",
    "    plt.imshow(img)\n",
    "else:\n",
    "    # Or load something else\n",
    "    time_labels.append('start absolute')\n",
    "    times.append(time.time())   ######## time1: start absolute\n",
    "    label = \"?\"\n",
    "    path = \"images/image002.jpg\" #001, 002, 009\n",
    "    img = cv2.imread(path)\n",
    "    img = cv2.cvtColor(img, cv2.COLOR_BGR2RGB)\n",
    "    plt.figure(figsize=(6,4))\n",
    "    plt.imshow(img)\n",
    "    # Detect traffic light in image\n",
    "    time_labels.append('start of detection')\n",
    "    times.append(time.time())   ######## time2: start of detection\n",
    "    with tf.Session(graph=detection_graph) as sess:\n",
    "        coords = detect_tl(img, sess)\n",
    "    time_labels.append('end of detection')\n",
    "    times.append(time.time())   ######## time3: end of detection\n",
    "    # Show detected traffic light only\n",
    "    img = cv2.resize(img[coords[0]:coords[2], coords[1]:coords[3]], (16,32))\n",
    "    #plt.figure(figsize=(2, 2))\n",
    "    #plt.imshow(img)\n",
    "\n",
    "image_np = np.expand_dims(np.asarray(img, dtype=np.uint8), 0)\n",
    "time_labels.append('end of preparation for classification')\n",
    "times.append(time.time())   ######## time4: end of preparation for classification\n",
    "#pred_label = np.argmax(seq_model.predict(image_np)[0])\n",
    "with tf.Session(graph=classifier_graph) as sess1:\n",
    "    predictions = sess1.run(output_tensor, {input_tensor: image_np})\n",
    "    pred_label = np.argmax(predictions[0])\n",
    "#time_labels.append('end of classification')\n",
    "times.append(time.time())   ######## time5: end of classification\n",
    "\"Pred: \",pred_label, \"True: \", label, \" [0: red, 1:yellow, 2: green]\""
   ]
  },
  {
   "cell_type": "markdown",
   "metadata": {},
   "source": [
    "## With keras model"
   ]
  },
  {
   "cell_type": "code",
   "execution_count": 40,
   "metadata": {},
   "outputs": [
    {
     "data": {
      "text/plain": [
       "'3.6.3 (v3.6.3:2c5fed8, Oct  3 2017, 18:11:49) [MSC v.1900 64 bit (AMD64)]'"
      ]
     },
     "execution_count": 40,
     "metadata": {},
     "output_type": "execute_result"
    }
   ],
   "source": [
    "import sys\n",
    "sys.version"
   ]
  },
  {
   "cell_type": "code",
   "execution_count": 41,
   "metadata": {},
   "outputs": [
    {
     "data": {
      "text/plain": [
       "'1.3.0'"
      ]
     },
     "execution_count": 41,
     "metadata": {},
     "output_type": "execute_result"
    }
   ],
   "source": [
    "tf.__version__"
   ]
  },
  {
   "cell_type": "code",
   "execution_count": 29,
   "metadata": {},
   "outputs": [
    {
     "data": {
      "text/plain": [
       "('Pred: ', 1, 'True: ', 1, ' [0: red, 1:yellow, 2: green]')"
      ]
     },
     "execution_count": 29,
     "metadata": {},
     "output_type": "execute_result"
    },
    {
     "data": {
      "image/png": "[encoded data removed]",
      "text/plain": [
       "<matplotlib.figure.Figure at 0x2208e3c95c0>"
      ]
     },
     "metadata": {},
     "output_type": "display_data"
    }
   ],
   "source": [
    "take_ID = True # Visu image from dataset\n",
    "times = list()\n",
    "time_labels = list()\n",
    "\n",
    "if take_ID:\n",
    "    # Visualize Image from dataset\n",
    "    ID = 80 #yellow\n",
    "    #ID = 40 #red\n",
    "    #ID = 150 #green\n",
    "    img = images[ID]\n",
    "    label = labels[ID]\n",
    "    plt.imshow(img)\n",
    "else:\n",
    "    # Or load something else\n",
    "    time_labels.append('start absolute')\n",
    "    times.append(time.time())   ######## time1: start absolute\n",
    "    label = \"?\"\n",
    "    path = \"images/image002.jpg\" #001, 002, 009\n",
    "    img = cv2.imread(path)\n",
    "    img = cv2.cvtColor(img, cv2.COLOR_BGR2RGB)\n",
    "    plt.figure(figsize=(6,4))\n",
    "    plt.imshow(img)\n",
    "    # Detect traffic light in image\n",
    "    time_labels.append('start of detection')\n",
    "    times.append(time.time())   ######## time2: start of detection\n",
    "    with tf.Session(graph=detection_graph) as sess:\n",
    "        coords = detect_tl(img, sess)\n",
    "    time_labels.append('end of detection')\n",
    "    times.append(time.time())   ######## time3: end of detection\n",
    "    # Show detected traffic light only\n",
    "    img = cv2.resize(img[coords[0]:coords[2], coords[1]:coords[3]], (16,32))\n",
    "    #plt.figure(figsize=(2, 2))\n",
    "    #plt.imshow(img)\n",
    "\n",
    "\n",
    "image_np = np.expand_dims(np.asarray(img, dtype=np.uint8), 0)\n",
    "time_labels.append('end of preparation for classification')\n",
    "times.append(time.time())   ######## time4: end of preparation for classification\n",
    "pred_label = np.argmax(seq_model.predict(image_np)[0])\n",
    "time_labels.append('end of classification')\n",
    "times.append(time.time())   ######## time5: end of classification\n",
    "\"Pred: \",pred_label, \"True: \", label, \" [0: red, 1:yellow, 2: green]\""
   ]
  },
  {
   "cell_type": "markdown",
   "metadata": {},
   "source": [
    "### Test on all images in dataset"
   ]
  },
  {
   "cell_type": "code",
   "execution_count": 30,
   "metadata": {},
   "outputs": [
    {
     "data": {
      "text/plain": [
       "'1.3.0'"
      ]
     },
     "execution_count": 30,
     "metadata": {},
     "output_type": "execute_result"
    }
   ],
   "source": [
    "tf.__version__"
   ]
  },
  {
   "cell_type": "code",
   "execution_count": 36,
   "metadata": {},
   "outputs": [
    {
     "name": "stdout",
     "output_type": "stream",
     "text": [
      "Shape of dataset:  (293, 600, 800, 3) uint8\n",
      "Shape of labels:  (293,) int32\n",
      "TL_Detector did not detect  0  of  10  images ->  0.0  %\n",
      "TL_Classifier missclassified  0  of  10  images ->  0.0  %\n"
     ]
    }
   ],
   "source": [
    "# Init variables\n",
    "error_counter = 0\n",
    "total_counter = 0\n",
    "miss_counter = 0\n",
    "label_names = [\"red\", \"yellow\", \"green\"]\n",
    "delta_times_total = list()\n",
    "\n",
    "# Load full images\n",
    "images, labels, paths = load_content(content, verbose=2)\n",
    "print(\"Shape of dataset: \", images.shape, images.dtype)\n",
    "print(\"Shape of labels: \", labels.shape, labels.dtype)\n",
    "\n",
    "#with tf.Session(graph=detection_graph) as sess:\n",
    "sess = tf.Session(graph=detection_graph)\n",
    "sess1 = tf.Session(graph=classifier_graph)\n",
    "for ID in range(len(images[:10])):\n",
    "    delta_times = list()\n",
    "    t0 = time.time()\n",
    "    image = images[ID]\n",
    "    label = labels[ID]\n",
    "\n",
    "    # Try to detect traffic light\n",
    "    coords = detect_tl(image, sess)\n",
    "\n",
    "    # Save needed time\n",
    "    t1 = time.time()\n",
    "    dt = t1-t0\n",
    "    delta_times.append(dt) #Detection\n",
    "    try:\n",
    "        # Show detected traffic light only\n",
    "        img = cv2.resize(image[coords[0]:coords[2], coords[1]:coords[3]], (16,32))\n",
    "        image_np = np.expand_dims(np.asarray(img, dtype=np.uint8), 0)\n",
    "         # Save needed time\n",
    "        t2 = time.time()\n",
    "        dt = t2-t1\n",
    "        delta_times.append(dt) #Preparation\n",
    "        pred_label = 4\n",
    "        \"\"\"with tf.Graph().as_default():\n",
    "            with tf.Session() as sess1:\n",
    "                K.set_session(sess1)                   \n",
    "                seq_model = load_model(model_path)\n",
    "                pred_label = np.argmax(seq_model.predict(image_np)[0])\"\"\"\n",
    "        #with tf.Session(graph=classifier_graph) as sess1:\n",
    "        predictions = sess1.run(output_tensor, {input_tensor: image_np})\n",
    "        pred_label = np.argmax(predictions[0])\n",
    "        # Save needed time\n",
    "        t3 = time.time()\n",
    "        dt = t3-t2\n",
    "        delta_times.append(dt) # Prep Classification\n",
    "\n",
    "        if pred_label != label:\n",
    "            miss_counter += 1\n",
    "            print(\"[ERROR] Classifier misclassified image \", paths[ID], \" with \", label_names[label], \" (true) as \", label_names[pred_label], \" (pred)\")\n",
    "\n",
    "    except:\n",
    "        print(\"[Error] Detector could not find a sign in image \", paths[ID])\n",
    "        error_counter +=1\n",
    "    total_counter +=1\n",
    "    delta_times_total.append(delta_times)\n",
    "sess.close()\n",
    "sess1.close()\n",
    "print(\"TL_Detector did not detect \", error_counter, \" of \", total_counter, \" images -> \",\n",
    "  np.around(100*error_counter/total_counter, decimals=1), \" %\")\n",
    "print(\"TL_Classifier missclassified \", miss_counter, \" of \", total_counter-error_counter, \" images -> \",\n",
    "  np.around(100*miss_counter/(total_counter-error_counter), decimals=1), \" %\")"
   ]
  },
  {
   "cell_type": "markdown",
   "metadata": {},
   "source": [
    "### Visualize times"
   ]
  },
  {
   "cell_type": "code",
   "execution_count": 37,
   "metadata": {},
   "outputs": [],
   "source": [
    "a = delta_times_total\n",
    "b = np.zeros([len(a),len(max(a,key = lambda x: len(x)))])\n",
    "for i,j in enumerate(a):\n",
    "    b[i][0:len(j)] = j\n",
    "time_deltas = np.hstack((b,b.sum(axis=1).reshape(-1,1)))"
   ]
  },
  {
   "cell_type": "code",
   "execution_count": 38,
   "metadata": {},
   "outputs": [
    {
     "data": {
      "text/plain": [
       "array([0.26984596, 0.        , 0.00199807, 0.2713443 ])"
      ]
     },
     "execution_count": 38,
     "metadata": {},
     "output_type": "execute_result"
    },
    {
     "data": {
      "image/png": "[encoded data removed]",
      "text/plain": [
       "<matplotlib.figure.Figure at 0x2208dff41d0>"
      ]
     },
     "metadata": {},
     "output_type": "display_data"
    }
   ],
   "source": [
    "#time_deltas = np.array(delta_times_total)\n",
    "# Create a figure instance\n",
    "fig = plt.figure(1, figsize=(9, 6))\n",
    "\n",
    "# Create an axes instance\n",
    "ax = fig.add_subplot(111)\n",
    "plt.title(\"Timings\")\n",
    "plt.ylabel('Time needed [s]')\n",
    "plt.xlabel('Step')\n",
    "#plt.ylim([0.000997,0.001005])\n",
    "plt.style.use('fivethirtyeight')\n",
    "bp = ax.boxplot(time_deltas)\n",
    "\n",
    "labels = [\"Detection\", \"Preparation\", \"Classification\", \"Total\"]\n",
    "plt.xticks([i+1 for i in range(len(labels))], labels)\n",
    "np.median(time_deltas, axis=0)"
   ]
  }
 ],
 "metadata": {
  "kernelspec": {
   "display_name": "Python 3",
   "language": "python",
   "name": "python3"
  },
  "language_info": {
   "codemirror_mode": {
    "name": "ipython",
    "version": 3
   },
   "file_extension": ".py",
   "mimetype": "text/x-python",
   "name": "python",
   "nbconvert_exporter": "python",
   "pygments_lexer": "ipython3",
   "version": "3.6.3"
  }
 },
 "nbformat": 4,
 "nbformat_minor": 2
}
